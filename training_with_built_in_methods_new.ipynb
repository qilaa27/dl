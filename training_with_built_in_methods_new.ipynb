{
  "cells": [
    {
      "cell_type": "markdown",
      "metadata": {
        "id": "view-in-github",
        "colab_type": "text"
      },
      "source": [
        "<a href=\"https://colab.research.google.com/github/qilaa27/dl/blob/main/training_with_built_in_methods_new.ipynb\" target=\"_parent\"><img src=\"https://colab.research.google.com/assets/colab-badge.svg\" alt=\"Open In Colab\"/></a>"
      ]
    },
    {
      "cell_type": "markdown",
      "metadata": {
        "id": "zzbsWUsSXevl"
      },
      "source": [
        "# Training & evaluation with the built-in methods\n",
        "\n",
        "**Author:** [fchollet](https://twitter.com/fchollet)<br>\n",
        "**Date created:** 2019/03/01<br>\n",
        "**Last modified:** 2023/06/25<br>\n",
        "**Description:** Complete guide to training & evaluation with `fit()` and `evaluate()`."
      ]
    },
    {
      "cell_type": "markdown",
      "metadata": {
        "id": "V5FC6v4mXevo"
      },
      "source": [
        "## Setup"
      ]
    },
    {
      "cell_type": "code",
      "execution_count": 1,
      "metadata": {
        "id": "K89Mx-GWXevp"
      },
      "outputs": [],
      "source": [
        "# We import torch & TF so as to use torch Dataloaders & tf.data.Datasets.\n",
        "import torch\n",
        "import tensorflow as tf\n",
        "\n",
        "import os\n",
        "import numpy as np\n",
        "import keras\n",
        "from keras import layers\n",
        "from keras import ops"
      ]
    },
    {
      "cell_type": "markdown",
      "metadata": {
        "id": "zZ2hh0N_Xevq"
      },
      "source": [
        "## Introduction\n",
        "\n",
        "This guide covers training, evaluation, and prediction (inference) models\n",
        "when using built-in APIs for training & validation (such as `Model.fit()`,\n",
        "`Model.evaluate()` and `Model.predict()`).\n",
        "\n",
        "If you are interested in leveraging `fit()` while specifying your\n",
        "own training step function, see the guides on customizing what happens in `fit()`:\n",
        "\n",
        "- [Writing a custom train step with TensorFlow](/guides/custom_train_step_in_tensorflow/)\n",
        "- [Writing a custom train step with JAX](/guides/custom_train_step_in_jax/)\n",
        "- [Writing a custom train step with PyTorch](/guides/custom_train_step_in_torch/)\n",
        "\n",
        "If you are interested in writing your own training & evaluation loops from\n",
        "scratch, see the guides on writing training loops:\n",
        "\n",
        "- [Writing a training loop with TensorFlow](/guides/writing_a_custom_training_loop_in_tensorflow/)\n",
        "- [Writing a training loop with JAX](/guides/writing_a_custom_training_loop_in_jax/)\n",
        "- [Writing a training loop with PyTorch](/guides/writing_a_custom_training_loop_in_torch/)\n",
        "\n",
        "In general, whether you are using built-in loops or writing your own, model training &\n",
        "evaluation works strictly in the same way across every kind of Keras model --\n",
        "Sequential models, models built with the Functional API, and models written from\n",
        "scratch via model subclassing."
      ]
    },
    {
      "cell_type": "markdown",
      "metadata": {
        "id": "tH3ij6lJXevr"
      },
      "source": [
        "## API overview: a first end-to-end example\n",
        "\n",
        "When passing data to the built-in training loops of a model, you should either use:\n",
        "\n",
        "- NumPy arrays (if your data is small and fits in memory)\n",
        "- Subclasses of `keras.utils.PyDataset`\n",
        "- `tf.data.Dataset` objects\n",
        "- PyTorch `DataLoader` instances\n",
        "\n",
        "In the next few paragraphs, we'll use the MNIST dataset as NumPy arrays, in\n",
        "order to demonstrate how to use optimizers, losses, and metrics. Afterwards, we'll\n",
        "take a close look at each of the other options.\n",
        "\n",
        "Let's consider the following model (here, we build in with the Functional API, but it\n",
        "could be a Sequential model or a subclassed model as well):"
      ]
    },
    {
      "cell_type": "code",
      "execution_count": 2,
      "metadata": {
        "id": "ycjDhSCAXevr"
      },
      "outputs": [],
      "source": [
        "inputs = keras.Input(shape=(784,), name=\"digits\")\n",
        "x = layers.Dense(64, activation=\"relu\", name=\"dense_1\")(inputs)\n",
        "x = layers.Dense(64, activation=\"relu\", name=\"dense_2\")(x)\n",
        "outputs = layers.Dense(10, activation=\"softmax\", name=\"predictions\")(x)\n",
        "\n",
        "model = keras.Model(inputs=inputs, outputs=outputs)"
      ]
    },
    {
      "cell_type": "markdown",
      "metadata": {
        "id": "mk8YlsfrXevr"
      },
      "source": [
        "Here's what the typical end-to-end workflow looks like, consisting of:\n",
        "\n",
        "- Training\n",
        "- Validation on a holdout set generated from the original training data\n",
        "- Evaluation on the test data\n",
        "\n",
        "We'll use MNIST data for this example."
      ]
    },
    {
      "cell_type": "code",
      "execution_count": 3,
      "metadata": {
        "id": "J0_c7x6eXevs",
        "outputId": "d8be5247-2c9c-4f1b-9fb5-79031b963aa2",
        "colab": {
          "base_uri": "https://localhost:8080/"
        }
      },
      "outputs": [
        {
          "output_type": "stream",
          "name": "stdout",
          "text": [
            "Downloading data from https://storage.googleapis.com/tensorflow/tf-keras-datasets/mnist.npz\n",
            "\u001b[1m11490434/11490434\u001b[0m \u001b[32m━━━━━━━━━━━━━━━━━━━━\u001b[0m\u001b[37m\u001b[0m \u001b[1m0s\u001b[0m 0us/step\n"
          ]
        }
      ],
      "source": [
        "(x_train, y_train), (x_test, y_test) = keras.datasets.mnist.load_data()\n",
        "\n",
        "# Preprocess the data (these are NumPy arrays)\n",
        "x_train = x_train.reshape(60000, 784).astype(\"float32\") / 255\n",
        "x_test = x_test.reshape(10000, 784).astype(\"float32\") / 255\n",
        "\n",
        "y_train = y_train.astype(\"float32\")\n",
        "y_test = y_test.astype(\"float32\")\n",
        "\n",
        "# Reserve 10,000 samples for validation\n",
        "x_val = x_train[-10000:]\n",
        "y_val = y_train[-10000:]\n",
        "x_train = x_train[:-10000]\n",
        "y_train = y_train[:-10000]"
      ]
    },
    {
      "cell_type": "markdown",
      "metadata": {
        "id": "KIoWxtY3Xevs"
      },
      "source": [
        "We specify the training configuration (optimizer, loss, metrics):"
      ]
    },
    {
      "cell_type": "code",
      "execution_count": 4,
      "metadata": {
        "id": "dCPhjnEHXevs"
      },
      "outputs": [],
      "source": [
        "model.compile(\n",
        "    optimizer=keras.optimizers.RMSprop(),  # Optimizer\n",
        "    # Loss function to minimize\n",
        "    loss=keras.losses.SparseCategoricalCrossentropy(),\n",
        "    # List of metrics to monitor\n",
        "    metrics=[keras.metrics.SparseCategoricalAccuracy()],\n",
        ")"
      ]
    },
    {
      "cell_type": "markdown",
      "metadata": {
        "id": "MDkFhmkOXevt"
      },
      "source": [
        "We call `fit()`, which will train the model by slicing the data into \"batches\" of size\n",
        "`batch_size`, and repeatedly iterating over the entire dataset for a given number of\n",
        "`epochs`."
      ]
    },
    {
      "cell_type": "code",
      "execution_count": 5,
      "metadata": {
        "id": "0PDUoEfvXevt",
        "outputId": "3bcace1f-a5a4-4f35-b6dd-6926102f3ac5",
        "colab": {
          "base_uri": "https://localhost:8080/"
        }
      },
      "outputs": [
        {
          "output_type": "stream",
          "name": "stdout",
          "text": [
            "Fit model on training data\n",
            "Epoch 1/2\n",
            "\u001b[1m782/782\u001b[0m \u001b[32m━━━━━━━━━━━━━━━━━━━━\u001b[0m\u001b[37m\u001b[0m \u001b[1m6s\u001b[0m 5ms/step - loss: 0.5861 - sparse_categorical_accuracy: 0.8346 - val_loss: 0.1937 - val_sparse_categorical_accuracy: 0.9436\n",
            "Epoch 2/2\n",
            "\u001b[1m782/782\u001b[0m \u001b[32m━━━━━━━━━━━━━━━━━━━━\u001b[0m\u001b[37m\u001b[0m \u001b[1m2s\u001b[0m 3ms/step - loss: 0.1724 - sparse_categorical_accuracy: 0.9498 - val_loss: 0.1285 - val_sparse_categorical_accuracy: 0.9630\n"
          ]
        }
      ],
      "source": [
        "print(\"Fit model on training data\")\n",
        "history = model.fit(\n",
        "    x_train,\n",
        "    y_train,\n",
        "    batch_size=64,\n",
        "    epochs=2,\n",
        "    # We pass some validation for\n",
        "    # monitoring validation loss and metrics\n",
        "    # at the end of each epoch\n",
        "    validation_data=(x_val, y_val),\n",
        ")"
      ]
    },
    {
      "cell_type": "markdown",
      "metadata": {
        "id": "FHWJJl8lXevt"
      },
      "source": [
        "The returned `history` object holds a record of the loss values and metric values\n",
        "during training:"
      ]
    },
    {
      "cell_type": "code",
      "execution_count": 6,
      "metadata": {
        "id": "Qonv3reGXevt",
        "colab": {
          "base_uri": "https://localhost:8080/"
        },
        "outputId": "6fc7991f-2323-4fc6-aea1-427da62716e0"
      },
      "outputs": [
        {
          "output_type": "stream",
          "name": "stdout",
          "text": [
            "{'loss': [0.34659281373023987, 0.1580124944448471], 'sparse_categorical_accuracy': [0.9010400176048279, 0.9539200067520142], 'val_loss': [0.193689227104187, 0.1284947246313095], 'val_sparse_categorical_accuracy': [0.9435999989509583, 0.9629999995231628]}\n"
          ]
        }
      ],
      "source": [
        "print(history.history)"
      ]
    },
    {
      "cell_type": "markdown",
      "metadata": {
        "id": "YVNc2JeDXevt"
      },
      "source": [
        "We evaluate the model on the test data via `evaluate()`:"
      ]
    },
    {
      "cell_type": "code",
      "execution_count": 7,
      "metadata": {
        "id": "B02mIQrrXevu",
        "colab": {
          "base_uri": "https://localhost:8080/"
        },
        "outputId": "627aca59-c587-4bb7-af3e-75d63d24aef5"
      },
      "outputs": [
        {
          "output_type": "stream",
          "name": "stdout",
          "text": [
            "Evaluate on test data\n",
            "\u001b[1m79/79\u001b[0m \u001b[32m━━━━━━━━━━━━━━━━━━━━\u001b[0m\u001b[37m\u001b[0m \u001b[1m1s\u001b[0m 3ms/step - loss: 0.1498 - sparse_categorical_accuracy: 0.9555\n",
            "test loss, test acc: [0.13077272474765778, 0.9610000252723694]\n",
            "Generate predictions for 3 samples\n",
            "\u001b[1m1/1\u001b[0m \u001b[32m━━━━━━━━━━━━━━━━━━━━\u001b[0m\u001b[37m\u001b[0m \u001b[1m0s\u001b[0m 295ms/step\n",
            "predictions shape: (3, 10)\n"
          ]
        }
      ],
      "source": [
        "# Evaluate the model on the test data using `evaluate`\n",
        "print(\"Evaluate on test data\")\n",
        "results = model.evaluate(x_test, y_test, batch_size=128)\n",
        "print(\"test loss, test acc:\", results)\n",
        "\n",
        "# Generate predictions (probabilities -- the output of the last layer)\n",
        "# on new data using `predict`\n",
        "print(\"Generate predictions for 3 samples\")\n",
        "predictions = model.predict(x_test[:3])\n",
        "print(\"predictions shape:\", predictions.shape)"
      ]
    },
    {
      "cell_type": "markdown",
      "metadata": {
        "id": "g4BKquXxXevu"
      },
      "source": [
        "Now, let's review each piece of this workflow in detail."
      ]
    },
    {
      "cell_type": "markdown",
      "metadata": {
        "id": "bjM9vpmjXevu"
      },
      "source": [
        "## The `compile()` method: specifying a loss, metrics, and an optimizer\n",
        "\n",
        "To train a model with `fit()`, you need to specify a loss function, an optimizer, and\n",
        "optionally, some metrics to monitor.\n",
        "\n",
        "You pass these to the model as arguments to the `compile()` method:"
      ]
    },
    {
      "cell_type": "code",
      "execution_count": 8,
      "metadata": {
        "id": "lcou5olbXevu"
      },
      "outputs": [],
      "source": [
        "model.compile(\n",
        "    optimizer=keras.optimizers.RMSprop(learning_rate=1e-3),\n",
        "    loss=keras.losses.SparseCategoricalCrossentropy(),\n",
        "    metrics=[keras.metrics.SparseCategoricalAccuracy()],\n",
        ")"
      ]
    },
    {
      "cell_type": "markdown",
      "metadata": {
        "id": "Scx2ZDJrXevu"
      },
      "source": [
        "The `metrics` argument should be a list -- your model can have any number of metrics.\n",
        "\n",
        "If your model has multiple outputs, you can specify different losses and metrics for\n",
        "each output, and you can modulate the contribution of each output to the total loss of\n",
        "the model. You will find more details about this in the **Passing data to multi-input,\n",
        "multi-output models** section.\n",
        "\n",
        "Note that if you're satisfied with the default settings, in many cases the optimizer,\n",
        "loss, and metrics can be specified via string identifiers as a shortcut:"
      ]
    },
    {
      "cell_type": "code",
      "execution_count": 9,
      "metadata": {
        "id": "Ixqoa0UxXevu"
      },
      "outputs": [],
      "source": [
        "model.compile(\n",
        "    optimizer=\"rmsprop\",\n",
        "    loss=\"sparse_categorical_crossentropy\",\n",
        "    metrics=[\"sparse_categorical_accuracy\"],\n",
        ")"
      ]
    },
    {
      "cell_type": "markdown",
      "metadata": {
        "id": "YhURYq0KXevu"
      },
      "source": [
        "For later reuse, let's put our model definition and compile step in functions; we will\n",
        "call them several times across different examples in this guide."
      ]
    },
    {
      "cell_type": "code",
      "execution_count": 10,
      "metadata": {
        "id": "29s50evRXevu"
      },
      "outputs": [],
      "source": [
        "\n",
        "def get_uncompiled_model():\n",
        "    inputs = keras.Input(shape=(784,), name=\"digits\")\n",
        "    x = layers.Dense(64, activation=\"relu\", name=\"dense_1\")(inputs)\n",
        "    x = layers.Dense(64, activation=\"relu\", name=\"dense_2\")(x)\n",
        "    outputs = layers.Dense(10, activation=\"softmax\", name=\"predictions\")(x)\n",
        "    model = keras.Model(inputs=inputs, outputs=outputs)\n",
        "    return model\n",
        "\n",
        "\n",
        "def get_compiled_model():\n",
        "    model = get_uncompiled_model()\n",
        "    model.compile(\n",
        "        optimizer=\"rmsprop\",\n",
        "        loss=\"sparse_categorical_crossentropy\",\n",
        "        metrics=[\"sparse_categorical_accuracy\"],\n",
        "    )\n",
        "    return model\n"
      ]
    },
    {
      "cell_type": "markdown",
      "metadata": {
        "id": "oVmerR7EXevu"
      },
      "source": [
        "### Many built-in optimizers, losses, and metrics are available\n",
        "\n",
        "In general, you won't have to create your own losses, metrics, or optimizers\n",
        "from scratch, because what you need is likely to be already part of the Keras API:\n",
        "\n",
        "Optimizers:\n",
        "\n",
        "- `SGD()` (with or without momentum)\n",
        "- `RMSprop()`\n",
        "- `Adam()`\n",
        "- etc.\n",
        "\n",
        "Losses:\n",
        "\n",
        "- `MeanSquaredError()`\n",
        "- `KLDivergence()`\n",
        "- `CosineSimilarity()`\n",
        "- etc.\n",
        "\n",
        "Metrics:\n",
        "\n",
        "- `AUC()`\n",
        "- `Precision()`\n",
        "- `Recall()`\n",
        "- etc."
      ]
    },
    {
      "cell_type": "markdown",
      "metadata": {
        "id": "kZxgewWoXevv"
      },
      "source": [
        "### Custom losses\n",
        "\n",
        "If you need to create a custom loss, Keras provides three ways to do so.\n",
        "\n",
        "The first method involves creating a function that accepts inputs `y_true` and\n",
        "`y_pred`. The following example shows a loss function that computes the mean squared\n",
        "error between the real data and the predictions:"
      ]
    },
    {
      "cell_type": "code",
      "execution_count": 11,
      "metadata": {
        "id": "QpIQp1Z3Xevv",
        "colab": {
          "base_uri": "https://localhost:8080/"
        },
        "outputId": "aa9e56c3-4fb3-470f-ad4b-1de8fe7df6bc"
      },
      "outputs": [
        {
          "output_type": "stream",
          "name": "stdout",
          "text": [
            "\u001b[1m782/782\u001b[0m \u001b[32m━━━━━━━━━━━━━━━━━━━━\u001b[0m\u001b[37m\u001b[0m \u001b[1m3s\u001b[0m 3ms/step - loss: 0.0280\n"
          ]
        },
        {
          "output_type": "execute_result",
          "data": {
            "text/plain": [
              "<keras.src.callbacks.history.History at 0x7f394e5f13d0>"
            ]
          },
          "metadata": {},
          "execution_count": 11
        }
      ],
      "source": [
        "\n",
        "def custom_mean_squared_error(y_true, y_pred):\n",
        "    return ops.mean(ops.square(y_true - y_pred), axis=-1)\n",
        "\n",
        "\n",
        "model = get_uncompiled_model()\n",
        "model.compile(optimizer=keras.optimizers.Adam(), loss=custom_mean_squared_error)\n",
        "\n",
        "# We need to one-hot encode the labels to use MSE\n",
        "y_train_one_hot = ops.one_hot(y_train, num_classes=10)\n",
        "model.fit(x_train, y_train_one_hot, batch_size=64, epochs=1)"
      ]
    },
    {
      "cell_type": "markdown",
      "metadata": {
        "id": "Jr_RkUWtXevv"
      },
      "source": [
        "If you need a loss function that takes in parameters beside `y_true` and `y_pred`, you\n",
        "can subclass the `keras.losses.Loss` class and implement the following two methods:\n",
        "\n",
        "- `__init__(self)`: accept parameters to pass during the call of your loss function\n",
        "- `call(self, y_true, y_pred)`: use the targets (y_true) and the model predictions\n",
        "(y_pred) to compute the model's loss\n",
        "\n",
        "Let's say you want to use mean squared error, but with an added term that\n",
        "will de-incentivize  prediction values far from 0.5 (we assume that the categorical\n",
        "targets are one-hot encoded and take values between 0 and 1). This\n",
        "creates an incentive for the model not to be too confident, which may help\n",
        "reduce overfitting (we won't know if it works until we try!).\n",
        "\n",
        "Here's how you would do it:"
      ]
    },
    {
      "cell_type": "code",
      "execution_count": 12,
      "metadata": {
        "id": "GB1-1PLVXevv",
        "colab": {
          "base_uri": "https://localhost:8080/"
        },
        "outputId": "b70ced71-9474-421a-c77e-a22ac6e57772"
      },
      "outputs": [
        {
          "output_type": "stream",
          "name": "stdout",
          "text": [
            "\u001b[1m782/782\u001b[0m \u001b[32m━━━━━━━━━━━━━━━━━━━━\u001b[0m\u001b[37m\u001b[0m \u001b[1m4s\u001b[0m 3ms/step - loss: 0.0488\n"
          ]
        },
        {
          "output_type": "execute_result",
          "data": {
            "text/plain": [
              "<keras.src.callbacks.history.History at 0x7f38c07b3650>"
            ]
          },
          "metadata": {},
          "execution_count": 12
        }
      ],
      "source": [
        "\n",
        "class CustomMSE(keras.losses.Loss):\n",
        "    def __init__(self, regularization_factor=0.1, name=\"custom_mse\"):\n",
        "        super().__init__(name=name)\n",
        "        self.regularization_factor = regularization_factor\n",
        "\n",
        "    def call(self, y_true, y_pred):\n",
        "        mse = ops.mean(ops.square(y_true - y_pred), axis=-1)\n",
        "        reg = ops.mean(ops.square(0.5 - y_pred), axis=-1)\n",
        "        return mse + reg * self.regularization_factor\n",
        "\n",
        "\n",
        "model = get_uncompiled_model()\n",
        "model.compile(optimizer=keras.optimizers.Adam(), loss=CustomMSE())\n",
        "\n",
        "y_train_one_hot = ops.one_hot(y_train, num_classes=10)\n",
        "model.fit(x_train, y_train_one_hot, batch_size=64, epochs=1)\n"
      ]
    },
    {
      "cell_type": "markdown",
      "metadata": {
        "id": "W8U5Hu8KXevv"
      },
      "source": [
        "### Custom metrics\n",
        "\n",
        "If you need a metric that isn't part of the API, you can easily create custom metrics\n",
        "by subclassing the `keras.metrics.Metric` class. You will need to implement 4\n",
        "methods:\n",
        "\n",
        "- `__init__(self)`, in which you will create state variables for your metric.\n",
        "- `update_state(self, y_true, y_pred, sample_weight=None)`, which uses the targets\n",
        "y_true and the model predictions y_pred to update the state variables.\n",
        "- `result(self)`, which uses the state variables to compute the final results.\n",
        "- `reset_state(self)`, which reinitializes the state of the metric.\n",
        "\n",
        "State update and results computation are kept separate (in `update_state()` and\n",
        "`result()`, respectively) because in some cases, the results computation might be very\n",
        "expensive and would only be done periodically.\n",
        "\n",
        "Here's a simple example showing how to implement a `CategoricalTruePositives` metric\n",
        "that counts how many samples were correctly classified as belonging to a given class:"
      ]
    },
    {
      "cell_type": "code",
      "execution_count": 13,
      "metadata": {
        "id": "arVwdoZSXevv",
        "colab": {
          "base_uri": "https://localhost:8080/"
        },
        "outputId": "867c17d7-2ac1-4f40-8c00-8a0f385a6d01"
      },
      "outputs": [
        {
          "output_type": "stream",
          "name": "stdout",
          "text": [
            "Epoch 1/3\n",
            "\u001b[1m782/782\u001b[0m \u001b[32m━━━━━━━━━━━━━━━━━━━━\u001b[0m\u001b[37m\u001b[0m \u001b[1m3s\u001b[0m 3ms/step - categorical_true_positives: 180870.1875 - loss: 0.5477\n",
            "Epoch 2/3\n",
            "\u001b[1m782/782\u001b[0m \u001b[32m━━━━━━━━━━━━━━━━━━━━\u001b[0m\u001b[37m\u001b[0m \u001b[1m2s\u001b[0m 2ms/step - categorical_true_positives: 182355.1406 - loss: 0.1666\n",
            "Epoch 3/3\n",
            "\u001b[1m782/782\u001b[0m \u001b[32m━━━━━━━━━━━━━━━━━━━━\u001b[0m\u001b[37m\u001b[0m \u001b[1m2s\u001b[0m 2ms/step - categorical_true_positives: 183080.2188 - loss: 0.1113\n"
          ]
        },
        {
          "output_type": "execute_result",
          "data": {
            "text/plain": [
              "<keras.src.callbacks.history.History at 0x7f38c058dfd0>"
            ]
          },
          "metadata": {},
          "execution_count": 13
        }
      ],
      "source": [
        "\n",
        "class CategoricalTruePositives(keras.metrics.Metric):\n",
        "    def __init__(self, name=\"categorical_true_positives\", **kwargs):\n",
        "        super().__init__(name=name, **kwargs)\n",
        "        self.true_positives = self.add_variable(\n",
        "            shape=(), name=\"ctp\", initializer=\"zeros\"\n",
        "        )\n",
        "\n",
        "    def update_state(self, y_true, y_pred, sample_weight=None):\n",
        "        y_pred = ops.reshape(ops.argmax(y_pred, axis=1), (-1, 1))\n",
        "        values = ops.cast(y_true, \"int32\") == ops.cast(y_pred, \"int32\")\n",
        "        values = ops.cast(values, \"float32\")\n",
        "        if sample_weight is not None:\n",
        "            sample_weight = ops.cast(sample_weight, \"float32\")\n",
        "            values = ops.multiply(values, sample_weight)\n",
        "        self.true_positives.assign_add(ops.sum(values))\n",
        "\n",
        "    def result(self):\n",
        "        return self.true_positives.value\n",
        "\n",
        "    def reset_state(self):\n",
        "        # The state of the metric will be reset at the start of each epoch.\n",
        "        self.true_positives.assign(0.0)\n",
        "\n",
        "\n",
        "model = get_uncompiled_model()\n",
        "model.compile(\n",
        "    optimizer=keras.optimizers.RMSprop(learning_rate=1e-3),\n",
        "    loss=keras.losses.SparseCategoricalCrossentropy(),\n",
        "    metrics=[CategoricalTruePositives()],\n",
        ")\n",
        "model.fit(x_train, y_train, batch_size=64, epochs=3)"
      ]
    },
    {
      "cell_type": "markdown",
      "metadata": {
        "id": "SjeeJ9t5Xevv"
      },
      "source": [
        "### Handling losses and metrics that don't fit the standard signature\n",
        "\n",
        "The overwhelming majority of losses and metrics can be computed from `y_true` and\n",
        "`y_pred`, where `y_pred` is an output of your model -- but not all of them. For\n",
        "instance, a regularization loss may only require the activation of a layer (there are\n",
        "no targets in this case), and this activation may not be a model output.\n",
        "\n",
        "In such cases, you can call `self.add_loss(loss_value)` from inside the call method of\n",
        "a custom layer. Losses added in this way get added to the \"main\" loss during training\n",
        "(the one passed to `compile()`). Here's a simple example that adds activity\n",
        "regularization (note that activity regularization is built-in in all Keras layers --\n",
        "this layer is just for the sake of providing a concrete example):"
      ]
    },
    {
      "cell_type": "code",
      "execution_count": 14,
      "metadata": {
        "id": "swK2r8WsXevv",
        "colab": {
          "base_uri": "https://localhost:8080/"
        },
        "outputId": "8203bdd7-8d2c-41ec-bbbf-978d1676936d"
      },
      "outputs": [
        {
          "output_type": "stream",
          "name": "stdout",
          "text": [
            "\u001b[1m782/782\u001b[0m \u001b[32m━━━━━━━━━━━━━━━━━━━━\u001b[0m\u001b[37m\u001b[0m \u001b[1m3s\u001b[0m 3ms/step - loss: 3.5194\n"
          ]
        },
        {
          "output_type": "execute_result",
          "data": {
            "text/plain": [
              "<keras.src.callbacks.history.History at 0x7f38cdfb56d0>"
            ]
          },
          "metadata": {},
          "execution_count": 14
        }
      ],
      "source": [
        "\n",
        "class ActivityRegularizationLayer(layers.Layer):\n",
        "    def call(self, inputs):\n",
        "        self.add_loss(ops.sum(inputs) * 0.1)\n",
        "        return inputs  # Pass-through layer.\n",
        "\n",
        "\n",
        "inputs = keras.Input(shape=(784,), name=\"digits\")\n",
        "x = layers.Dense(64, activation=\"relu\", name=\"dense_1\")(inputs)\n",
        "\n",
        "# Insert activity regularization as a layer\n",
        "x = ActivityRegularizationLayer()(x)\n",
        "\n",
        "x = layers.Dense(64, activation=\"relu\", name=\"dense_2\")(x)\n",
        "outputs = layers.Dense(10, name=\"predictions\")(x)\n",
        "\n",
        "model = keras.Model(inputs=inputs, outputs=outputs)\n",
        "model.compile(\n",
        "    optimizer=keras.optimizers.RMSprop(learning_rate=1e-3),\n",
        "    loss=keras.losses.SparseCategoricalCrossentropy(from_logits=True),\n",
        ")\n",
        "\n",
        "# The displayed loss will be much higher than before\n",
        "# due to the regularization component.\n",
        "model.fit(x_train, y_train, batch_size=64, epochs=1)"
      ]
    },
    {
      "cell_type": "markdown",
      "metadata": {
        "id": "gSn_RsyXXevv"
      },
      "source": [
        "Note that when you pass losses via `add_loss()`, it becomes possible to call\n",
        "`compile()` without a loss function, since the model already has a loss to minimize.\n",
        "\n",
        "Consider the following `LogisticEndpoint` layer: it takes as inputs\n",
        "targets & logits, and it tracks a crossentropy loss via `add_loss()`."
      ]
    },
    {
      "cell_type": "code",
      "execution_count": 15,
      "metadata": {
        "id": "yiTgM2E6Xevv"
      },
      "outputs": [],
      "source": [
        "\n",
        "class LogisticEndpoint(keras.layers.Layer):\n",
        "    def __init__(self, name=None):\n",
        "        super().__init__(name=name)\n",
        "        self.loss_fn = keras.losses.BinaryCrossentropy(from_logits=True)\n",
        "\n",
        "    def call(self, targets, logits, sample_weights=None):\n",
        "        # Compute the training-time loss value and add it\n",
        "        # to the layer using `self.add_loss()`.\n",
        "        loss = self.loss_fn(targets, logits, sample_weights)\n",
        "        self.add_loss(loss)\n",
        "\n",
        "        # Return the inference-time prediction tensor (for `.predict()`).\n",
        "        return ops.softmax(logits)\n"
      ]
    },
    {
      "cell_type": "markdown",
      "metadata": {
        "id": "5vpfxSlwXevv"
      },
      "source": [
        "You can use it in a model with two inputs (input data & targets), compiled without a\n",
        "`loss` argument, like this:"
      ]
    },
    {
      "cell_type": "code",
      "execution_count": 16,
      "metadata": {
        "id": "elovS91IXevw",
        "colab": {
          "base_uri": "https://localhost:8080/"
        },
        "outputId": "9415c41c-9c02-401a-bbea-6b9a25329b80"
      },
      "outputs": [
        {
          "output_type": "stream",
          "name": "stdout",
          "text": [
            "\u001b[1m1/1\u001b[0m \u001b[32m━━━━━━━━━━━━━━━━━━━━\u001b[0m\u001b[37m\u001b[0m \u001b[1m1s\u001b[0m 1s/step - loss: 0.7073\n"
          ]
        },
        {
          "output_type": "execute_result",
          "data": {
            "text/plain": [
              "<keras.src.callbacks.history.History at 0x7f38c03f13d0>"
            ]
          },
          "metadata": {},
          "execution_count": 16
        }
      ],
      "source": [
        "inputs = keras.Input(shape=(3,), name=\"inputs\")\n",
        "targets = keras.Input(shape=(10,), name=\"targets\")\n",
        "logits = keras.layers.Dense(10)(inputs)\n",
        "predictions = LogisticEndpoint(name=\"predictions\")(targets, logits)\n",
        "\n",
        "model = keras.Model(inputs=[inputs, targets], outputs=predictions)\n",
        "model.compile(optimizer=\"adam\")  # No loss argument!\n",
        "\n",
        "data = {\n",
        "    \"inputs\": np.random.random((3, 3)),\n",
        "    \"targets\": np.random.random((3, 10)),\n",
        "}\n",
        "model.fit(data)"
      ]
    },
    {
      "cell_type": "markdown",
      "metadata": {
        "id": "1jCwz06KXevw"
      },
      "source": [
        "For more information about training multi-input models, see the section **Passing data\n",
        "to multi-input, multi-output models**."
      ]
    },
    {
      "cell_type": "markdown",
      "metadata": {
        "id": "fC5HhPkJXevw"
      },
      "source": [
        "### Automatically setting apart a validation holdout set\n",
        "\n",
        "In the first end-to-end example you saw, we used the `validation_data` argument to pass\n",
        "a tuple of NumPy arrays `(x_val, y_val)` to the model for evaluating a validation loss\n",
        "and validation metrics at the end of each epoch.\n",
        "\n",
        "Here's another option: the argument `validation_split` allows you to automatically\n",
        "reserve part of your training data for validation. The argument value represents the\n",
        "fraction of the data to be reserved for validation, so it should be set to a number\n",
        "higher than 0 and lower than 1. For instance, `validation_split=0.2` means \"use 20% of\n",
        "the data for validation\", and `validation_split=0.6` means \"use 60% of the data for\n",
        "validation\".\n",
        "\n",
        "The way the validation is computed is by taking the last x% samples of the arrays\n",
        "received by the `fit()` call, before any shuffling.\n",
        "\n",
        "Note that you can only use `validation_split` when training with NumPy data."
      ]
    },
    {
      "cell_type": "code",
      "execution_count": 17,
      "metadata": {
        "id": "IY0rtdrBXevw",
        "colab": {
          "base_uri": "https://localhost:8080/"
        },
        "outputId": "b35368a6-d58a-41c9-e476-b4c6519df719"
      },
      "outputs": [
        {
          "output_type": "stream",
          "name": "stdout",
          "text": [
            "\u001b[1m625/625\u001b[0m \u001b[32m━━━━━━━━━━━━━━━━━━━━\u001b[0m\u001b[37m\u001b[0m \u001b[1m5s\u001b[0m 5ms/step - loss: 0.6045 - sparse_categorical_accuracy: 0.8295 - val_loss: 0.2529 - val_sparse_categorical_accuracy: 0.9225\n"
          ]
        },
        {
          "output_type": "execute_result",
          "data": {
            "text/plain": [
              "<keras.src.callbacks.history.History at 0x7f38c02a3dd0>"
            ]
          },
          "metadata": {},
          "execution_count": 17
        }
      ],
      "source": [
        "model = get_compiled_model()\n",
        "model.fit(x_train, y_train, batch_size=64, validation_split=0.2, epochs=1)"
      ]
    },
    {
      "cell_type": "markdown",
      "metadata": {
        "id": "iKQCeRG0Xev0"
      },
      "source": [
        "## Training & evaluation using `tf.data` Datasets\n",
        "\n",
        "In the past few paragraphs, you've seen how to handle losses, metrics, and optimizers,\n",
        "and you've seen how to use the `validation_data` and `validation_split` arguments in\n",
        "`fit()`, when your data is passed as NumPy arrays.\n",
        "\n",
        "Another option is to use an iterator-like, such as a `tf.data.Dataset`, a\n",
        "PyTorch `DataLoader`, or a Keras `PyDataset`. Let's take look at the former.\n",
        "\n",
        "The `tf.data` API is a set of utilities in TensorFlow 2.0 for loading and preprocessing\n",
        "data in a way that's fast and scalable. For a complete guide about creating `Datasets`,\n",
        "see the [tf.data documentation](https://www.tensorflow.org/guide/data).\n",
        "\n",
        "**You can use `tf.data` to train your Keras\n",
        "models regardless of the backend you're using --\n",
        "whether it's JAX, PyTorch, or TensorFlow.**\n",
        "You can pass a `Dataset` instance directly to the methods `fit()`, `evaluate()`, and\n",
        "`predict()`:"
      ]
    },
    {
      "cell_type": "code",
      "execution_count": 18,
      "metadata": {
        "id": "ivMksyElXev0",
        "colab": {
          "base_uri": "https://localhost:8080/"
        },
        "outputId": "b648e4a2-e54b-4c1a-af52-9d4636c2aea1"
      },
      "outputs": [
        {
          "output_type": "stream",
          "name": "stdout",
          "text": [
            "Epoch 1/3\n",
            "\u001b[1m782/782\u001b[0m \u001b[32m━━━━━━━━━━━━━━━━━━━━\u001b[0m\u001b[37m\u001b[0m \u001b[1m4s\u001b[0m 3ms/step - loss: 0.5637 - sparse_categorical_accuracy: 0.8498\n",
            "Epoch 2/3\n",
            "\u001b[1m782/782\u001b[0m \u001b[32m━━━━━━━━━━━━━━━━━━━━\u001b[0m\u001b[37m\u001b[0m \u001b[1m2s\u001b[0m 2ms/step - loss: 0.1632 - sparse_categorical_accuracy: 0.9526\n",
            "Epoch 3/3\n",
            "\u001b[1m782/782\u001b[0m \u001b[32m━━━━━━━━━━━━━━━━━━━━\u001b[0m\u001b[37m\u001b[0m \u001b[1m3s\u001b[0m 2ms/step - loss: 0.1142 - sparse_categorical_accuracy: 0.9663\n",
            "Evaluate\n",
            "\u001b[1m157/157\u001b[0m \u001b[32m━━━━━━━━━━━━━━━━━━━━\u001b[0m\u001b[37m\u001b[0m \u001b[1m1s\u001b[0m 3ms/step - loss: 0.1440 - sparse_categorical_accuracy: 0.9561\n"
          ]
        },
        {
          "output_type": "execute_result",
          "data": {
            "text/plain": [
              "{'loss': 0.13158972561359406, 'compile_metrics': 0.9603000283241272}"
            ]
          },
          "metadata": {},
          "execution_count": 18
        }
      ],
      "source": [
        "model = get_compiled_model()\n",
        "\n",
        "# First, let's create a training Dataset instance.\n",
        "# For the sake of our example, we'll use the same MNIST data as before.\n",
        "train_dataset = tf.data.Dataset.from_tensor_slices((x_train, y_train))\n",
        "# Shuffle and slice the dataset.\n",
        "train_dataset = train_dataset.shuffle(buffer_size=1024).batch(64)\n",
        "\n",
        "# Now we get a test dataset.\n",
        "test_dataset = tf.data.Dataset.from_tensor_slices((x_test, y_test))\n",
        "test_dataset = test_dataset.batch(64)\n",
        "\n",
        "# Since the dataset already takes care of batching,\n",
        "# we don't pass a `batch_size` argument.\n",
        "model.fit(train_dataset, epochs=3)\n",
        "\n",
        "# You can also evaluate or predict on a dataset.\n",
        "print(\"Evaluate\")\n",
        "result = model.evaluate(test_dataset)\n",
        "dict(zip(model.metrics_names, result))"
      ]
    },
    {
      "cell_type": "markdown",
      "metadata": {
        "id": "s9L_HXt3Xev0"
      },
      "source": [
        "Note that the Dataset is reset at the end of each epoch, so it can be reused of the\n",
        "next epoch.\n",
        "\n",
        "If you want to run training only on a specific number of batches from this Dataset, you\n",
        "can pass the `steps_per_epoch` argument, which specifies how many training steps the\n",
        "model should run using this Dataset before moving on to the next epoch."
      ]
    },
    {
      "cell_type": "code",
      "execution_count": 19,
      "metadata": {
        "id": "Lkbxq--XXev0",
        "colab": {
          "base_uri": "https://localhost:8080/"
        },
        "outputId": "2276e873-6d42-4934-afcf-0fa701f45cf5"
      },
      "outputs": [
        {
          "output_type": "stream",
          "name": "stdout",
          "text": [
            "Epoch 1/3\n",
            "\u001b[1m100/100\u001b[0m \u001b[32m━━━━━━━━━━━━━━━━━━━━\u001b[0m\u001b[37m\u001b[0m \u001b[1m2s\u001b[0m 3ms/step - loss: 1.2386 - sparse_categorical_accuracy: 0.6750\n",
            "Epoch 2/3\n",
            "\u001b[1m100/100\u001b[0m \u001b[32m━━━━━━━━━━━━━━━━━━━━\u001b[0m\u001b[37m\u001b[0m \u001b[1m0s\u001b[0m 3ms/step - loss: 0.3801 - sparse_categorical_accuracy: 0.8952\n",
            "Epoch 3/3\n",
            "\u001b[1m100/100\u001b[0m \u001b[32m━━━━━━━━━━━━━━━━━━━━\u001b[0m\u001b[37m\u001b[0m \u001b[1m0s\u001b[0m 3ms/step - loss: 0.3587 - sparse_categorical_accuracy: 0.8898\n"
          ]
        },
        {
          "output_type": "execute_result",
          "data": {
            "text/plain": [
              "<keras.src.callbacks.history.History at 0x7f38c0226410>"
            ]
          },
          "metadata": {},
          "execution_count": 19
        }
      ],
      "source": [
        "model = get_compiled_model()\n",
        "\n",
        "# Prepare the training dataset\n",
        "train_dataset = tf.data.Dataset.from_tensor_slices((x_train, y_train))\n",
        "train_dataset = train_dataset.shuffle(buffer_size=1024).batch(64)\n",
        "\n",
        "# Only use the 100 batches per epoch (that's 64 * 100 samples)\n",
        "model.fit(train_dataset, epochs=3, steps_per_epoch=100)"
      ]
    },
    {
      "cell_type": "markdown",
      "metadata": {
        "id": "aaZCtkpBXev0"
      },
      "source": [
        "You can also pass a `Dataset` instance as the `validation_data` argument in `fit()`:"
      ]
    },
    {
      "cell_type": "code",
      "execution_count": 20,
      "metadata": {
        "id": "6PLto9h5Xev0",
        "colab": {
          "base_uri": "https://localhost:8080/"
        },
        "outputId": "23d4e8b1-862a-452d-df23-f8c0f12a51f4"
      },
      "outputs": [
        {
          "output_type": "stream",
          "name": "stdout",
          "text": [
            "\u001b[1m782/782\u001b[0m \u001b[32m━━━━━━━━━━━━━━━━━━━━\u001b[0m\u001b[37m\u001b[0m \u001b[1m4s\u001b[0m 4ms/step - loss: 0.5888 - sparse_categorical_accuracy: 0.8383 - val_loss: 0.2055 - val_sparse_categorical_accuracy: 0.9396\n"
          ]
        },
        {
          "output_type": "execute_result",
          "data": {
            "text/plain": [
              "<keras.src.callbacks.history.History at 0x7f38c03e8390>"
            ]
          },
          "metadata": {},
          "execution_count": 20
        }
      ],
      "source": [
        "model = get_compiled_model()\n",
        "\n",
        "# Prepare the training dataset\n",
        "train_dataset = tf.data.Dataset.from_tensor_slices((x_train, y_train))\n",
        "train_dataset = train_dataset.shuffle(buffer_size=1024).batch(64)\n",
        "\n",
        "# Prepare the validation dataset\n",
        "val_dataset = tf.data.Dataset.from_tensor_slices((x_val, y_val))\n",
        "val_dataset = val_dataset.batch(64)\n",
        "\n",
        "model.fit(train_dataset, epochs=1, validation_data=val_dataset)"
      ]
    },
    {
      "cell_type": "markdown",
      "metadata": {
        "id": "9sQdgz0FXev1"
      },
      "source": [
        "At the end of each epoch, the model will iterate over the validation dataset and\n",
        "compute the validation loss and validation metrics.\n",
        "\n",
        "If you want to run validation only on a specific number of batches from this dataset,\n",
        "you can pass the `validation_steps` argument, which specifies how many validation\n",
        "steps the model should run with the validation dataset before interrupting validation\n",
        "and moving on to the next epoch:"
      ]
    },
    {
      "cell_type": "code",
      "execution_count": 21,
      "metadata": {
        "id": "oxQxhvvTXev1",
        "colab": {
          "base_uri": "https://localhost:8080/"
        },
        "outputId": "24aacd4c-a9fb-4f00-aebe-0fc98b9d35b1"
      },
      "outputs": [
        {
          "output_type": "stream",
          "name": "stdout",
          "text": [
            "\u001b[1m782/782\u001b[0m \u001b[32m━━━━━━━━━━━━━━━━━━━━\u001b[0m\u001b[37m\u001b[0m \u001b[1m4s\u001b[0m 3ms/step - loss: 0.5662 - sparse_categorical_accuracy: 0.8403 - val_loss: 0.2944 - val_sparse_categorical_accuracy: 0.9297\n"
          ]
        },
        {
          "output_type": "execute_result",
          "data": {
            "text/plain": [
              "<keras.src.callbacks.history.History at 0x7f38ac6b0a50>"
            ]
          },
          "metadata": {},
          "execution_count": 21
        }
      ],
      "source": [
        "model = get_compiled_model()\n",
        "\n",
        "# Prepare the training dataset\n",
        "train_dataset = tf.data.Dataset.from_tensor_slices((x_train, y_train))\n",
        "train_dataset = train_dataset.shuffle(buffer_size=1024).batch(64)\n",
        "\n",
        "# Prepare the validation dataset\n",
        "val_dataset = tf.data.Dataset.from_tensor_slices((x_val, y_val))\n",
        "val_dataset = val_dataset.batch(64)\n",
        "\n",
        "model.fit(\n",
        "    train_dataset,\n",
        "    epochs=1,\n",
        "    # Only run validation using the first 10 batches of the dataset\n",
        "    # using the `validation_steps` argument\n",
        "    validation_data=val_dataset,\n",
        "    validation_steps=10,\n",
        ")"
      ]
    },
    {
      "cell_type": "markdown",
      "metadata": {
        "id": "agFMFvwrXev1"
      },
      "source": [
        "Note that the validation dataset will be reset after each use (so that you will always\n",
        "be evaluating on the same samples from epoch to epoch).\n",
        "\n",
        "The argument `validation_split` (generating a holdout set from the training data) is\n",
        "not supported when training from `Dataset` objects, since this feature requires the\n",
        "ability to index the samples of the datasets, which is not possible in general with\n",
        "the `Dataset` API."
      ]
    },
    {
      "cell_type": "markdown",
      "metadata": {
        "id": "OridwMCWXev1"
      },
      "source": [
        "## Training & evaluation using `PyDataset` instances\n",
        "\n",
        "`keras.utils.PyDataset` is a utility that you can subclass to obtain\n",
        "a Python generator with two important properties:\n",
        "\n",
        "- It works well with multiprocessing.\n",
        "- It can be shuffled (e.g. when passing `shuffle=True` in `fit()`).\n",
        "\n",
        "A `PyDataset` must implement two methods:\n",
        "\n",
        "- `__getitem__`\n",
        "- `__len__`\n",
        "\n",
        "The method `__getitem__` should return a complete batch.\n",
        "If you want to modify your dataset between epochs, you may implement `on_epoch_end`.\n",
        "\n",
        "Here's a quick example:"
      ]
    },
    {
      "cell_type": "code",
      "execution_count": 22,
      "metadata": {
        "id": "t6b89UNnXev1"
      },
      "outputs": [],
      "source": [
        "\n",
        "class ExamplePyDataset(keras.utils.PyDataset):\n",
        "    def __init__(self, x, y, batch_size, **kwargs):\n",
        "        super().__init__(**kwargs)\n",
        "        self.x = x\n",
        "        self.y = y\n",
        "        self.batch_size = batch_size\n",
        "\n",
        "    def __len__(self):\n",
        "        return int(np.ceil(len(self.x) / float(self.batch_size)))\n",
        "\n",
        "    def __getitem__(self, idx):\n",
        "        batch_x = self.x[idx * self.batch_size : (idx + 1) * self.batch_size]\n",
        "        batch_y = self.y[idx * self.batch_size : (idx + 1) * self.batch_size]\n",
        "        return batch_x, batch_y\n",
        "\n",
        "\n",
        "train_py_dataset = ExamplePyDataset(x_train, y_train, batch_size=32)\n",
        "val_py_dataset = ExamplePyDataset(x_val, y_val, batch_size=32)"
      ]
    },
    {
      "cell_type": "markdown",
      "metadata": {
        "id": "YdSiqXwfXev1"
      },
      "source": [
        "To fit the model, pass the dataset instead as the `x` argument (no need for a `y`\n",
        "argument since the dataset includes the targets), and pass the validation dataset\n",
        "as the `validation_data` argument. And no need for the `batch_size` argument, since\n",
        "the dataset is already batched!"
      ]
    },
    {
      "cell_type": "code",
      "execution_count": 23,
      "metadata": {
        "id": "b0XZE_zZXev1",
        "colab": {
          "base_uri": "https://localhost:8080/"
        },
        "outputId": "fda67581-e15b-4683-d7f3-56400fdd2db3"
      },
      "outputs": [
        {
          "output_type": "stream",
          "name": "stdout",
          "text": [
            "\u001b[1m1563/1563\u001b[0m \u001b[32m━━━━━━━━━━━━━━━━━━━━\u001b[0m\u001b[37m\u001b[0m \u001b[1m7s\u001b[0m 4ms/step - loss: 0.5020 - sparse_categorical_accuracy: 0.8579 - val_loss: 0.1869 - val_sparse_categorical_accuracy: 0.9452\n"
          ]
        },
        {
          "output_type": "execute_result",
          "data": {
            "text/plain": [
              "<keras.src.callbacks.history.History at 0x7f38ac33e2d0>"
            ]
          },
          "metadata": {},
          "execution_count": 23
        }
      ],
      "source": [
        "model = get_compiled_model()\n",
        "model.fit(train_py_dataset, batch_size=64, validation_data=val_py_dataset, epochs=1)"
      ]
    },
    {
      "cell_type": "markdown",
      "metadata": {
        "id": "rwpPajubXev1"
      },
      "source": [
        "Evaluating the model is just as easy:"
      ]
    },
    {
      "cell_type": "code",
      "execution_count": 24,
      "metadata": {
        "id": "L5CHJQltXev2",
        "colab": {
          "base_uri": "https://localhost:8080/"
        },
        "outputId": "8a323ae4-946f-4b80-c2b9-1709a1f1ef2d"
      },
      "outputs": [
        {
          "output_type": "stream",
          "name": "stdout",
          "text": [
            "\u001b[1m313/313\u001b[0m \u001b[32m━━━━━━━━━━━━━━━━━━━━\u001b[0m\u001b[37m\u001b[0m \u001b[1m1s\u001b[0m 2ms/step - loss: 0.2117 - sparse_categorical_accuracy: 0.9365\n"
          ]
        },
        {
          "output_type": "execute_result",
          "data": {
            "text/plain": [
              "[0.18688327074050903, 0.9452000260353088]"
            ]
          },
          "metadata": {},
          "execution_count": 24
        }
      ],
      "source": [
        "model.evaluate(val_py_dataset)"
      ]
    },
    {
      "cell_type": "markdown",
      "metadata": {
        "id": "swrLsqbNXev2"
      },
      "source": [
        "Importantly, `PyDataset` objects support three common constructor arguments\n",
        "that handle the parallel processing configuration:\n",
        "\n",
        "- `workers`: Number of workers to use in multithreading or\n",
        "    multiprocessing. Typically, you'd set it to the number of\n",
        "    cores on your CPU.\n",
        "- `use_multiprocessing`: Whether to use Python multiprocessing for\n",
        "    parallelism. Setting this to `True` means that your\n",
        "    dataset will be replicated in multiple forked processes.\n",
        "    This is necessary to gain compute-level (rather than I/O level)\n",
        "    benefits from parallelism. However it can only be set to\n",
        "    `True` if your dataset can be safely pickled.\n",
        "- `max_queue_size`: Maximum number of batches to keep in the queue\n",
        "    when iterating over the dataset in a multithreaded or\n",
        "    multipricessed setting.\n",
        "    You can reduce this value to reduce the CPU memory consumption of\n",
        "    your dataset. It defaults to 10.\n",
        "\n",
        "By default, multiprocessing is disabled (`use_multiprocessing=False`) and only\n",
        "one thread is used. You should make sure to only turn on `use_multiprocessing` if\n",
        "your code is running inside a Python `if __name__ == \"__main__\":` block in order\n",
        "to avoid issues.\n",
        "\n",
        "Here's a 4-thread, non-multiprocessed example:"
      ]
    },
    {
      "cell_type": "code",
      "execution_count": 25,
      "metadata": {
        "id": "IO1TPTq1Xev2",
        "colab": {
          "base_uri": "https://localhost:8080/"
        },
        "outputId": "5f304209-98d7-4741-97b5-c05027a9fea9"
      },
      "outputs": [
        {
          "output_type": "stream",
          "name": "stdout",
          "text": [
            "\u001b[1m1563/1563\u001b[0m \u001b[32m━━━━━━━━━━━━━━━━━━━━\u001b[0m\u001b[37m\u001b[0m \u001b[1m7s\u001b[0m 4ms/step - loss: 0.4854 - sparse_categorical_accuracy: 0.8645 - val_loss: 0.1580 - val_sparse_categorical_accuracy: 0.9549\n"
          ]
        },
        {
          "output_type": "execute_result",
          "data": {
            "text/plain": [
              "<keras.src.callbacks.history.History at 0x7f38ac41d490>"
            ]
          },
          "metadata": {},
          "execution_count": 25
        }
      ],
      "source": [
        "train_py_dataset = ExamplePyDataset(x_train, y_train, batch_size=32, workers=4)\n",
        "val_py_dataset = ExamplePyDataset(x_val, y_val, batch_size=32, workers=4)\n",
        "\n",
        "model = get_compiled_model()\n",
        "model.fit(train_py_dataset, batch_size=64, validation_data=val_py_dataset, epochs=1)"
      ]
    },
    {
      "cell_type": "markdown",
      "metadata": {
        "id": "w3Bw1uZAXev2"
      },
      "source": [
        "## Training & evaluation using PyTorch `DataLoader` objects\n",
        "\n",
        "All built-in training and evaluation APIs are also compatible with `torch.utils.data.Dataset` and\n",
        "`torch.utils.data.DataLoader` objects -- regardless of whether you're using the PyTorch backend,\n",
        "or the JAX or TensorFlow backends. Let's take a look at a simple example.\n",
        "\n",
        "Unlike `PyDataset` which are batch-centric, PyTorch `Dataset` objects are sample-centric:\n",
        "the `__len__` method returns the number of samples,\n",
        "and the `__getitem__` method returns a specific sample."
      ]
    },
    {
      "cell_type": "code",
      "execution_count": 26,
      "metadata": {
        "id": "3sVP5AvBXev2"
      },
      "outputs": [],
      "source": [
        "\n",
        "class ExampleTorchDataset(torch.utils.data.Dataset):\n",
        "    def __init__(self, x, y):\n",
        "        self.x = x\n",
        "        self.y = y\n",
        "\n",
        "    def __len__(self):\n",
        "        return len(self.x)\n",
        "\n",
        "    def __getitem__(self, idx):\n",
        "        return self.x[idx], self.y[idx]\n",
        "\n",
        "\n",
        "train_torch_dataset = ExampleTorchDataset(x_train, y_train)\n",
        "val_torch_dataset = ExampleTorchDataset(x_val, y_val)"
      ]
    },
    {
      "cell_type": "markdown",
      "metadata": {
        "id": "CNcl0O1tXev2"
      },
      "source": [
        "To use a PyTorch Dataset, you need to wrap it into a `Dataloader` which takes care\n",
        "of batching and shuffling:"
      ]
    },
    {
      "cell_type": "code",
      "execution_count": 27,
      "metadata": {
        "id": "njGjFiKqXev2"
      },
      "outputs": [],
      "source": [
        "train_dataloader = torch.utils.data.DataLoader(\n",
        "    train_torch_dataset, batch_size=32, shuffle=True\n",
        ")\n",
        "val_dataloader = torch.utils.data.DataLoader(\n",
        "    val_torch_dataset, batch_size=32, shuffle=True\n",
        ")"
      ]
    },
    {
      "cell_type": "markdown",
      "metadata": {
        "id": "8ZD8TIJRXev2"
      },
      "source": [
        "Now you can use them in the Keras API just like any other iterator:"
      ]
    },
    {
      "cell_type": "code",
      "execution_count": 28,
      "metadata": {
        "id": "LPAYkHxnXev3",
        "colab": {
          "base_uri": "https://localhost:8080/"
        },
        "outputId": "b44d8b35-e00d-4fb9-fe80-e8487ac327a7"
      },
      "outputs": [
        {
          "output_type": "stream",
          "name": "stdout",
          "text": [
            "\u001b[1m1563/1563\u001b[0m \u001b[32m━━━━━━━━━━━━━━━━━━━━\u001b[0m\u001b[37m\u001b[0m \u001b[1m7s\u001b[0m 4ms/step - loss: 0.4912 - sparse_categorical_accuracy: 0.8599 - val_loss: 0.1769 - val_sparse_categorical_accuracy: 0.9487\n",
            "\u001b[1m313/313\u001b[0m \u001b[32m━━━━━━━━━━━━━━━━━━━━\u001b[0m\u001b[37m\u001b[0m \u001b[1m1s\u001b[0m 3ms/step - loss: 0.1757 - sparse_categorical_accuracy: 0.9474\n"
          ]
        },
        {
          "output_type": "execute_result",
          "data": {
            "text/plain": [
              "[0.17689071595668793, 0.9487000107765198]"
            ]
          },
          "metadata": {},
          "execution_count": 28
        }
      ],
      "source": [
        "model = get_compiled_model()\n",
        "model.fit(train_dataloader, batch_size=64, validation_data=val_dataloader, epochs=1)\n",
        "model.evaluate(val_dataloader)"
      ]
    },
    {
      "cell_type": "markdown",
      "metadata": {
        "id": "sOg2BZZsXev3"
      },
      "source": [
        "## Using sample weighting and class weighting\n",
        "\n",
        "With the default settings the weight of a sample is decided by its frequency\n",
        "in the dataset. There are two methods to weight the data, independent of\n",
        "sample frequency:\n",
        "\n",
        "* Class weights\n",
        "* Sample weights"
      ]
    },
    {
      "cell_type": "markdown",
      "metadata": {
        "id": "yGZKR199Xev3"
      },
      "source": [
        "### Class weights\n",
        "\n",
        "This is set by passing a dictionary to the `class_weight` argument to\n",
        "`Model.fit()`. This dictionary maps class indices to the weight that should\n",
        "be used for samples belonging to this class.\n",
        "\n",
        "This can be used to balance classes without resampling, or to train a\n",
        "model that gives more importance to a particular class.\n",
        "\n",
        "For instance, if class \"0\" is half as represented as class \"1\" in your data,\n",
        "you could use `Model.fit(..., class_weight={0: 1., 1: 0.5})`."
      ]
    },
    {
      "cell_type": "markdown",
      "metadata": {
        "id": "t8CWZ4uQXev3"
      },
      "source": [
        "Here's a NumPy example where we use class weights or sample weights to\n",
        "give more importance to the correct classification of class #5 (which\n",
        "is the digit \"5\" in the MNIST dataset)."
      ]
    },
    {
      "cell_type": "code",
      "execution_count": 29,
      "metadata": {
        "id": "QNG-Pd-GXev3",
        "colab": {
          "base_uri": "https://localhost:8080/"
        },
        "outputId": "2160fbd5-c3bc-4341-f06e-87ed1c44b8f6"
      },
      "outputs": [
        {
          "output_type": "stream",
          "name": "stdout",
          "text": [
            "Fit with class weight\n",
            "\u001b[1m782/782\u001b[0m \u001b[32m━━━━━━━━━━━━━━━━━━━━\u001b[0m\u001b[37m\u001b[0m \u001b[1m3s\u001b[0m 3ms/step - loss: 0.6447 - sparse_categorical_accuracy: 0.8320\n"
          ]
        },
        {
          "output_type": "execute_result",
          "data": {
            "text/plain": [
              "<keras.src.callbacks.history.History at 0x7f38ac5abb10>"
            ]
          },
          "metadata": {},
          "execution_count": 29
        }
      ],
      "source": [
        "class_weight = {\n",
        "    0: 1.0,\n",
        "    1: 1.0,\n",
        "    2: 1.0,\n",
        "    3: 1.0,\n",
        "    4: 1.0,\n",
        "    # Set weight \"2\" for class \"5\",\n",
        "    # making this class 2x more important\n",
        "    5: 2.0,\n",
        "    6: 1.0,\n",
        "    7: 1.0,\n",
        "    8: 1.0,\n",
        "    9: 1.0,\n",
        "}\n",
        "\n",
        "print(\"Fit with class weight\")\n",
        "model = get_compiled_model()\n",
        "model.fit(x_train, y_train, class_weight=class_weight, batch_size=64, epochs=1)"
      ]
    },
    {
      "cell_type": "markdown",
      "metadata": {
        "id": "bgEiLIBvXev3"
      },
      "source": [
        "### Sample weights\n",
        "\n",
        "For fine grained control, or if you are not building a classifier,\n",
        "you can use \"sample weights\".\n",
        "\n",
        "- When training from NumPy data: Pass the `sample_weight`\n",
        "  argument to `Model.fit()`.\n",
        "- When training from `tf.data` or any other sort of iterator:\n",
        "  Yield `(input_batch, label_batch, sample_weight_batch)` tuples.\n",
        "\n",
        "A \"sample weights\" array is an array of numbers that specify how much weight\n",
        "each sample in a batch should have in computing the total loss. It is commonly\n",
        "used in imbalanced classification problems (the idea being to give more weight\n",
        "to rarely-seen classes).\n",
        "\n",
        "When the weights used are ones and zeros, the array can be used as a *mask* for\n",
        "the loss function (entirely discarding the contribution of certain samples to\n",
        "the total loss)."
      ]
    },
    {
      "cell_type": "code",
      "execution_count": 30,
      "metadata": {
        "id": "jydnXOR1Xev3",
        "colab": {
          "base_uri": "https://localhost:8080/"
        },
        "outputId": "934b5d91-2f75-4a16-e969-53fc1daff5f5"
      },
      "outputs": [
        {
          "output_type": "stream",
          "name": "stdout",
          "text": [
            "Fit with sample weight\n",
            "\u001b[1m782/782\u001b[0m \u001b[32m━━━━━━━━━━━━━━━━━━━━\u001b[0m\u001b[37m\u001b[0m \u001b[1m3s\u001b[0m 3ms/step - loss: 0.6581 - sparse_categorical_accuracy: 0.8319\n"
          ]
        },
        {
          "output_type": "execute_result",
          "data": {
            "text/plain": [
              "<keras.src.callbacks.history.History at 0x7f38a17aef10>"
            ]
          },
          "metadata": {},
          "execution_count": 30
        }
      ],
      "source": [
        "sample_weight = np.ones(shape=(len(y_train),))\n",
        "sample_weight[y_train == 5] = 2.0\n",
        "\n",
        "print(\"Fit with sample weight\")\n",
        "model = get_compiled_model()\n",
        "model.fit(x_train, y_train, sample_weight=sample_weight, batch_size=64, epochs=1)"
      ]
    },
    {
      "cell_type": "markdown",
      "metadata": {
        "id": "Oq3BtLYRXev3"
      },
      "source": [
        "Here's a matching `Dataset` example:"
      ]
    },
    {
      "cell_type": "code",
      "execution_count": 31,
      "metadata": {
        "id": "4uyJ1PQNXev3",
        "colab": {
          "base_uri": "https://localhost:8080/"
        },
        "outputId": "dd6ad8e8-2523-4df2-f834-25b308244223"
      },
      "outputs": [
        {
          "output_type": "stream",
          "name": "stdout",
          "text": [
            "\u001b[1m782/782\u001b[0m \u001b[32m━━━━━━━━━━━━━━━━━━━━\u001b[0m\u001b[37m\u001b[0m \u001b[1m3s\u001b[0m 3ms/step - loss: 0.6511 - sparse_categorical_accuracy: 0.8355\n"
          ]
        },
        {
          "output_type": "execute_result",
          "data": {
            "text/plain": [
              "<keras.src.callbacks.history.History at 0x7f38a17812d0>"
            ]
          },
          "metadata": {},
          "execution_count": 31
        }
      ],
      "source": [
        "sample_weight = np.ones(shape=(len(y_train),))\n",
        "sample_weight[y_train == 5] = 2.0\n",
        "\n",
        "# Create a Dataset that includes sample weights\n",
        "# (3rd element in the return tuple).\n",
        "train_dataset = tf.data.Dataset.from_tensor_slices((x_train, y_train, sample_weight))\n",
        "\n",
        "# Shuffle and slice the dataset.\n",
        "train_dataset = train_dataset.shuffle(buffer_size=1024).batch(64)\n",
        "\n",
        "model = get_compiled_model()\n",
        "model.fit(train_dataset, epochs=1)"
      ]
    },
    {
      "cell_type": "markdown",
      "metadata": {
        "id": "UFAu-7ZZXev3"
      },
      "source": [
        "## Passing data to multi-input, multi-output models\n",
        "\n",
        "In the previous examples, we were considering a model with a single input (a tensor of\n",
        "shape `(764,)`) and a single output (a prediction tensor of shape `(10,)`). But what\n",
        "about models that have multiple inputs or outputs?\n",
        "\n",
        "Consider the following model, which has an image input of shape `(32, 32, 3)` (that's\n",
        "`(height, width, channels)`) and a time series input of shape `(None, 10)` (that's\n",
        "`(timesteps, features)`). Our model will have two outputs computed from the\n",
        "combination of these inputs: a \"score\" (of shape `(1,)`) and a probability\n",
        "distribution over five classes (of shape `(5,)`)."
      ]
    },
    {
      "cell_type": "code",
      "execution_count": 32,
      "metadata": {
        "id": "uzznULa7Xev3"
      },
      "outputs": [],
      "source": [
        "image_input = keras.Input(shape=(32, 32, 3), name=\"img_input\")\n",
        "timeseries_input = keras.Input(shape=(None, 10), name=\"ts_input\")\n",
        "\n",
        "x1 = layers.Conv2D(3, 3)(image_input)\n",
        "x1 = layers.GlobalMaxPooling2D()(x1)\n",
        "\n",
        "x2 = layers.Conv1D(3, 3)(timeseries_input)\n",
        "x2 = layers.GlobalMaxPooling1D()(x2)\n",
        "\n",
        "x = layers.concatenate([x1, x2])\n",
        "\n",
        "score_output = layers.Dense(1, name=\"score_output\")(x)\n",
        "class_output = layers.Dense(5, name=\"class_output\")(x)\n",
        "\n",
        "model = keras.Model(\n",
        "    inputs=[image_input, timeseries_input], outputs=[score_output, class_output]\n",
        ")"
      ]
    },
    {
      "cell_type": "markdown",
      "metadata": {
        "id": "i4WtrQVCXev3"
      },
      "source": [
        "Let's plot this model, so you can clearly see what we're doing here (note that the\n",
        "shapes shown in the plot are batch shapes, rather than per-sample shapes)."
      ]
    },
    {
      "cell_type": "code",
      "execution_count": 33,
      "metadata": {
        "id": "2zRyifF0Xev4",
        "colab": {
          "base_uri": "https://localhost:8080/",
          "height": 1000
        },
        "outputId": "3a9629e1-7529-42ac-99c2-4b294a98f4c2"
      },
      "outputs": [
        {
          "output_type": "execute_result",
          "data": {
            "image/png": "[encoded data removed]",
            "text/plain": [
              "<IPython.core.display.Image object>"
            ]
          },
          "metadata": {},
          "execution_count": 33
        }
      ],
      "source": [
        "keras.utils.plot_model(model, \"multi_input_and_output_model.png\", show_shapes=True)"
      ]
    },
    {
      "cell_type": "markdown",
      "metadata": {
        "id": "n_chz8QIXev4"
      },
      "source": [
        "At compilation time, we can specify different losses to different outputs, by passing\n",
        "the loss functions as a list:"
      ]
    },
    {
      "cell_type": "code",
      "execution_count": 34,
      "metadata": {
        "id": "UX-xmhlvXev4"
      },
      "outputs": [],
      "source": [
        "model.compile(\n",
        "    optimizer=keras.optimizers.RMSprop(1e-3),\n",
        "    loss=[\n",
        "        keras.losses.MeanSquaredError(),\n",
        "        keras.losses.CategoricalCrossentropy(),\n",
        "    ],\n",
        ")"
      ]
    },
    {
      "cell_type": "markdown",
      "metadata": {
        "id": "21XNCIRWXev4"
      },
      "source": [
        "If we only passed a single loss function to the model, the same loss function would be\n",
        "applied to every output (which is not appropriate here).\n",
        "\n",
        "Likewise for metrics:"
      ]
    },
    {
      "cell_type": "code",
      "execution_count": 35,
      "metadata": {
        "id": "enMF4cmlXev4"
      },
      "outputs": [],
      "source": [
        "model.compile(\n",
        "    optimizer=keras.optimizers.RMSprop(1e-3),\n",
        "    loss=[\n",
        "        keras.losses.MeanSquaredError(),\n",
        "        keras.losses.CategoricalCrossentropy(),\n",
        "    ],\n",
        "    metrics=[\n",
        "        [\n",
        "            keras.metrics.MeanAbsolutePercentageError(),\n",
        "            keras.metrics.MeanAbsoluteError(),\n",
        "        ],\n",
        "        [keras.metrics.CategoricalAccuracy()],\n",
        "    ],\n",
        ")"
      ]
    },
    {
      "cell_type": "markdown",
      "metadata": {
        "id": "b2hhStnDXev4"
      },
      "source": [
        "Since we gave names to our output layers, we could also specify per-output losses and\n",
        "metrics via a dict:"
      ]
    },
    {
      "cell_type": "code",
      "execution_count": 36,
      "metadata": {
        "id": "BZUvEZ9oXev4"
      },
      "outputs": [],
      "source": [
        "model.compile(\n",
        "    optimizer=keras.optimizers.RMSprop(1e-3),\n",
        "    loss={\n",
        "        \"score_output\": keras.losses.MeanSquaredError(),\n",
        "        \"class_output\": keras.losses.CategoricalCrossentropy(),\n",
        "    },\n",
        "    metrics={\n",
        "        \"score_output\": [\n",
        "            keras.metrics.MeanAbsolutePercentageError(),\n",
        "            keras.metrics.MeanAbsoluteError(),\n",
        "        ],\n",
        "        \"class_output\": [keras.metrics.CategoricalAccuracy()],\n",
        "    },\n",
        ")"
      ]
    },
    {
      "cell_type": "markdown",
      "metadata": {
        "id": "QYhR4c1gXev4"
      },
      "source": [
        "We recommend the use of explicit names and dicts if you have more than 2 outputs.\n",
        "\n",
        "It's possible to give different weights to different output-specific losses (for\n",
        "instance, one might wish to privilege the \"score\" loss in our example, by giving to 2x\n",
        "the importance of the class loss), using the `loss_weights` argument:"
      ]
    },
    {
      "cell_type": "code",
      "execution_count": 37,
      "metadata": {
        "id": "ZxGw8tLlXev4"
      },
      "outputs": [],
      "source": [
        "model.compile(\n",
        "    optimizer=keras.optimizers.RMSprop(1e-3),\n",
        "    loss={\n",
        "        \"score_output\": keras.losses.MeanSquaredError(),\n",
        "        \"class_output\": keras.losses.CategoricalCrossentropy(),\n",
        "    },\n",
        "    metrics={\n",
        "        \"score_output\": [\n",
        "            keras.metrics.MeanAbsolutePercentageError(),\n",
        "            keras.metrics.MeanAbsoluteError(),\n",
        "        ],\n",
        "        \"class_output\": [keras.metrics.CategoricalAccuracy()],\n",
        "    },\n",
        "    loss_weights={\"score_output\": 2.0, \"class_output\": 1.0},\n",
        ")"
      ]
    },
    {
      "cell_type": "markdown",
      "metadata": {
        "id": "vZBexxorXev4"
      },
      "source": [
        "You could also choose not to compute a loss for certain outputs, if these outputs are\n",
        "meant for prediction but not for training:"
      ]
    },
    {
      "cell_type": "code",
      "execution_count": 38,
      "metadata": {
        "id": "EQfjlKq3Xev4"
      },
      "outputs": [],
      "source": [
        "# List loss version\n",
        "model.compile(\n",
        "    optimizer=keras.optimizers.RMSprop(1e-3),\n",
        "    loss=[None, keras.losses.CategoricalCrossentropy()],\n",
        ")\n",
        "\n",
        "# Or dict loss version\n",
        "model.compile(\n",
        "    optimizer=keras.optimizers.RMSprop(1e-3),\n",
        "    loss={\"class_output\": keras.losses.CategoricalCrossentropy()},\n",
        ")"
      ]
    },
    {
      "cell_type": "markdown",
      "metadata": {
        "id": "uiBJFwunXev4"
      },
      "source": [
        "Passing data to a multi-input or multi-output model in `fit()` works in a similar way as\n",
        "specifying a loss function in compile: you can pass **lists of NumPy arrays** (with\n",
        "1:1 mapping to the outputs that received a loss function) or **dicts mapping output\n",
        "names to NumPy arrays**."
      ]
    },
    {
      "cell_type": "code",
      "execution_count": 39,
      "metadata": {
        "id": "-5mYYcUBXev4",
        "colab": {
          "base_uri": "https://localhost:8080/"
        },
        "outputId": "156c8ff3-0c09-4835-bd51-2a77cb3706ba"
      },
      "outputs": [
        {
          "output_type": "stream",
          "name": "stdout",
          "text": [
            "\u001b[1m4/4\u001b[0m \u001b[32m━━━━━━━━━━━━━━━━━━━━\u001b[0m\u001b[37m\u001b[0m \u001b[1m4s\u001b[0m 309ms/step - class_output_categorical_accuracy: 0.1319 - class_output_loss: 12.2825 - loss: 12.6534 - score_output_loss: 0.3528 - score_output_mean_absolute_error: 0.5135 - score_output_mean_absolute_percentage_error: 349.8885\n",
            "\u001b[1m4/4\u001b[0m \u001b[32m━━━━━━━━━━━━━━━━━━━━\u001b[0m\u001b[37m\u001b[0m \u001b[1m2s\u001b[0m 220ms/step - class_output_categorical_accuracy: 0.1569 - class_output_loss: 10.9954 - loss: 11.0898 - score_output_loss: 0.2589 - score_output_mean_absolute_error: 0.4130 - score_output_mean_absolute_percentage_error: 277.3602\n"
          ]
        },
        {
          "output_type": "execute_result",
          "data": {
            "text/plain": [
              "<keras.src.callbacks.history.History at 0x7f3885e80a10>"
            ]
          },
          "metadata": {},
          "execution_count": 39
        }
      ],
      "source": [
        "model.compile(\n",
        "    optimizer=keras.optimizers.RMSprop(1e-3),\n",
        "    loss=[\n",
        "        keras.losses.MeanSquaredError(),\n",
        "        keras.losses.CategoricalCrossentropy(),\n",
        "    ],\n",
        ")\n",
        "\n",
        "# Generate dummy NumPy data\n",
        "img_data = np.random.random_sample(size=(100, 32, 32, 3))\n",
        "ts_data = np.random.random_sample(size=(100, 20, 10))\n",
        "score_targets = np.random.random_sample(size=(100, 1))\n",
        "class_targets = np.random.random_sample(size=(100, 5))\n",
        "\n",
        "# Fit on lists\n",
        "model.fit([img_data, ts_data], [score_targets, class_targets], batch_size=32, epochs=1)\n",
        "\n",
        "# Alternatively, fit on dicts\n",
        "model.fit(\n",
        "    {\"img_input\": img_data, \"ts_input\": ts_data},\n",
        "    {\"score_output\": score_targets, \"class_output\": class_targets},\n",
        "    batch_size=32,\n",
        "    epochs=1,\n",
        ")"
      ]
    },
    {
      "cell_type": "markdown",
      "metadata": {
        "id": "UGaHrDR-Xev5"
      },
      "source": [
        "Here's the `Dataset` use case: similarly as what we did for NumPy arrays, the `Dataset`\n",
        "should return a tuple of dicts."
      ]
    },
    {
      "cell_type": "code",
      "execution_count": 40,
      "metadata": {
        "id": "71Grk_VEXev5",
        "colab": {
          "base_uri": "https://localhost:8080/"
        },
        "outputId": "7660395b-7fa9-47e3-972c-80d8cd63aebf"
      },
      "outputs": [
        {
          "output_type": "stream",
          "name": "stdout",
          "text": [
            "\u001b[1m2/2\u001b[0m \u001b[32m━━━━━━━━━━━━━━━━━━━━\u001b[0m\u001b[37m\u001b[0m \u001b[1m3s\u001b[0m 1s/step - class_output_categorical_accuracy: 0.1573 - class_output_loss: 10.8576 - loss: 11.0455 - score_output_loss: 0.1852 - score_output_mean_absolute_error: 0.3584 - score_output_mean_absolute_percentage_error: 270.0655\n"
          ]
        },
        {
          "output_type": "execute_result",
          "data": {
            "text/plain": [
              "<keras.src.callbacks.history.History at 0x7f38a14e76d0>"
            ]
          },
          "metadata": {},
          "execution_count": 40
        }
      ],
      "source": [
        "train_dataset = tf.data.Dataset.from_tensor_slices(\n",
        "    (\n",
        "        {\"img_input\": img_data, \"ts_input\": ts_data},\n",
        "        {\"score_output\": score_targets, \"class_output\": class_targets},\n",
        "    )\n",
        ")\n",
        "train_dataset = train_dataset.shuffle(buffer_size=1024).batch(64)\n",
        "\n",
        "model.fit(train_dataset, epochs=1)"
      ]
    },
    {
      "cell_type": "markdown",
      "metadata": {
        "id": "K2LDLOUpXev5"
      },
      "source": [
        "## Using callbacks\n",
        "\n",
        "Callbacks in Keras are objects that are called at different points during training (at\n",
        "the start of an epoch, at the end of a batch, at the end of an epoch, etc.). They\n",
        "can be used to implement certain behaviors, such as:\n",
        "\n",
        "- Doing validation at different points during training (beyond the built-in per-epoch\n",
        "validation)\n",
        "- Checkpointing the model at regular intervals or when it exceeds a certain accuracy\n",
        "threshold\n",
        "- Changing the learning rate of the model when training seems to be plateauing\n",
        "- Doing fine-tuning of the top layers when training seems to be plateauing\n",
        "- Sending email or instant message notifications when training ends or where a certain\n",
        "performance threshold is exceeded\n",
        "- Etc.\n",
        "\n",
        "Callbacks can be passed as a list to your call to `fit()`:"
      ]
    },
    {
      "cell_type": "code",
      "execution_count": 41,
      "metadata": {
        "id": "8f5sVviDXev5",
        "colab": {
          "base_uri": "https://localhost:8080/"
        },
        "outputId": "a95751fe-f510-4230-f363-c9d3ec642538"
      },
      "outputs": [
        {
          "output_type": "stream",
          "name": "stdout",
          "text": [
            "Epoch 1/20\n",
            "\u001b[1m625/625\u001b[0m \u001b[32m━━━━━━━━━━━━━━━━━━━━\u001b[0m\u001b[37m\u001b[0m \u001b[1m4s\u001b[0m 5ms/step - loss: 0.6113 - sparse_categorical_accuracy: 0.8285 - val_loss: 0.2590 - val_sparse_categorical_accuracy: 0.9217\n",
            "Epoch 2/20\n",
            "\u001b[1m625/625\u001b[0m \u001b[32m━━━━━━━━━━━━━━━━━━━━\u001b[0m\u001b[37m\u001b[0m \u001b[1m2s\u001b[0m 3ms/step - loss: 0.1836 - sparse_categorical_accuracy: 0.9473 - val_loss: 0.1685 - val_sparse_categorical_accuracy: 0.9508\n",
            "Epoch 3/20\n",
            "\u001b[1m625/625\u001b[0m \u001b[32m━━━━━━━━━━━━━━━━━━━━\u001b[0m\u001b[37m\u001b[0m \u001b[1m3s\u001b[0m 3ms/step - loss: 0.1279 - sparse_categorical_accuracy: 0.9615 - val_loss: 0.1483 - val_sparse_categorical_accuracy: 0.9565\n",
            "Epoch 4/20\n",
            "\u001b[1m625/625\u001b[0m \u001b[32m━━━━━━━━━━━━━━━━━━━━\u001b[0m\u001b[37m\u001b[0m \u001b[1m2s\u001b[0m 3ms/step - loss: 0.0968 - sparse_categorical_accuracy: 0.9711 - val_loss: 0.1427 - val_sparse_categorical_accuracy: 0.9589\n",
            "Epoch 5/20\n",
            "\u001b[1m625/625\u001b[0m \u001b[32m━━━━━━━━━━━━━━━━━━━━\u001b[0m\u001b[37m\u001b[0m \u001b[1m3s\u001b[0m 4ms/step - loss: 0.0813 - sparse_categorical_accuracy: 0.9763 - val_loss: 0.1572 - val_sparse_categorical_accuracy: 0.9536\n",
            "Epoch 5: early stopping\n"
          ]
        },
        {
          "output_type": "execute_result",
          "data": {
            "text/plain": [
              "<keras.src.callbacks.history.History at 0x7f3885e09b90>"
            ]
          },
          "metadata": {},
          "execution_count": 41
        }
      ],
      "source": [
        "model = get_compiled_model()\n",
        "\n",
        "callbacks = [\n",
        "    keras.callbacks.EarlyStopping(\n",
        "        # Stop training when `val_loss` is no longer improving\n",
        "        monitor=\"val_loss\",\n",
        "        # \"no longer improving\" being defined as \"no better than 1e-2 less\"\n",
        "        min_delta=1e-2,\n",
        "        # \"no longer improving\" being further defined as \"for at least 2 epochs\"\n",
        "        patience=2,\n",
        "        verbose=1,\n",
        "    )\n",
        "]\n",
        "model.fit(\n",
        "    x_train,\n",
        "    y_train,\n",
        "    epochs=20,\n",
        "    batch_size=64,\n",
        "    callbacks=callbacks,\n",
        "    validation_split=0.2,\n",
        ")"
      ]
    },
    {
      "cell_type": "markdown",
      "metadata": {
        "id": "4JD5vnpiXev5"
      },
      "source": [
        "### Many built-in callbacks are available\n",
        "\n",
        "There are many built-in callbacks already available in Keras, such as:\n",
        "\n",
        "- `ModelCheckpoint`: Periodically save the model.\n",
        "- `EarlyStopping`: Stop training when training is no longer improving the validation\n",
        "metrics.\n",
        "- `TensorBoard`: periodically write model logs that can be visualized in\n",
        "[TensorBoard](https://www.tensorflow.org/tensorboard) (more details in the section\n",
        "\"Visualization\").\n",
        "- `CSVLogger`: streams loss and metrics data to a CSV file.\n",
        "- etc.\n",
        "\n",
        "See the [callbacks documentation](/api/callbacks/) for the complete list.\n",
        "\n",
        "### Writing your own callback\n",
        "\n",
        "You can create a custom callback by extending the base class\n",
        "`keras.callbacks.Callback`. A callback has access to its associated model through the\n",
        "class property `self.model`.\n",
        "\n",
        "Make sure to read the\n",
        "[complete guide to writing custom callbacks](/guides/writing_your_own_callbacks/).\n",
        "\n",
        "Here's a simple example saving a list of per-batch loss values during training:"
      ]
    },
    {
      "cell_type": "code",
      "execution_count": 42,
      "metadata": {
        "id": "SMpBFiFhXev5"
      },
      "outputs": [],
      "source": [
        "\n",
        "class LossHistory(keras.callbacks.Callback):\n",
        "    def on_train_begin(self, logs):\n",
        "        self.per_batch_losses = []\n",
        "\n",
        "    def on_batch_end(self, batch, logs):\n",
        "        self.per_batch_losses.append(logs.get(\"loss\"))\n"
      ]
    },
    {
      "cell_type": "markdown",
      "metadata": {
        "id": "ZDSWrnN2Xev5"
      },
      "source": [
        "## Checkpointing models\n",
        "\n",
        "When you're training model on relatively large datasets, it's crucial to save\n",
        "checkpoints of your model at frequent intervals.\n",
        "\n",
        "The easiest way to achieve this is with the `ModelCheckpoint` callback:"
      ]
    },
    {
      "cell_type": "code",
      "execution_count": 43,
      "metadata": {
        "id": "F6SBd10EXev5",
        "colab": {
          "base_uri": "https://localhost:8080/"
        },
        "outputId": "9182db6a-11b9-4551-a2df-d39d65201c8a"
      },
      "outputs": [
        {
          "output_type": "stream",
          "name": "stdout",
          "text": [
            "Epoch 1/2\n",
            "\u001b[1m611/625\u001b[0m \u001b[32m━━━━━━━━━━━━━━━━━━━\u001b[0m\u001b[37m━\u001b[0m \u001b[1m0s\u001b[0m 2ms/step - loss: 0.6462 - sparse_categorical_accuracy: 0.8231\n",
            "Epoch 1: val_loss improved from inf to 0.24647, saving model to mymodel_1.keras\n",
            "\u001b[1m625/625\u001b[0m \u001b[32m━━━━━━━━━━━━━━━━━━━━\u001b[0m\u001b[37m\u001b[0m \u001b[1m3s\u001b[0m 4ms/step - loss: 0.6399 - sparse_categorical_accuracy: 0.8248 - val_loss: 0.2465 - val_sparse_categorical_accuracy: 0.9258\n",
            "Epoch 2/2\n",
            "\u001b[1m609/625\u001b[0m \u001b[32m━━━━━━━━━━━━━━━━━━━\u001b[0m\u001b[37m━\u001b[0m \u001b[1m0s\u001b[0m 2ms/step - loss: 0.1906 - sparse_categorical_accuracy: 0.9439\n",
            "Epoch 2: val_loss improved from 0.24647 to 0.18468, saving model to mymodel_2.keras\n",
            "\u001b[1m625/625\u001b[0m \u001b[32m━━━━━━━━━━━━━━━━━━━━\u001b[0m\u001b[37m\u001b[0m \u001b[1m2s\u001b[0m 3ms/step - loss: 0.1903 - sparse_categorical_accuracy: 0.9440 - val_loss: 0.1847 - val_sparse_categorical_accuracy: 0.9432\n"
          ]
        },
        {
          "output_type": "execute_result",
          "data": {
            "text/plain": [
              "<keras.src.callbacks.history.History at 0x7f388657f710>"
            ]
          },
          "metadata": {},
          "execution_count": 43
        }
      ],
      "source": [
        "model = get_compiled_model()\n",
        "\n",
        "callbacks = [\n",
        "    keras.callbacks.ModelCheckpoint(\n",
        "        # Path where to save the model\n",
        "        # The two parameters below mean that we will overwrite\n",
        "        # the current checkpoint if and only if\n",
        "        # the `val_loss` score has improved.\n",
        "        # The saved model name will include the current epoch.\n",
        "        filepath=\"mymodel_{epoch}.keras\",\n",
        "        save_best_only=True,  # Only save a model if `val_loss` has improved.\n",
        "        monitor=\"val_loss\",\n",
        "        verbose=1,\n",
        "    )\n",
        "]\n",
        "model.fit(\n",
        "    x_train,\n",
        "    y_train,\n",
        "    epochs=2,\n",
        "    batch_size=64,\n",
        "    callbacks=callbacks,\n",
        "    validation_split=0.2,\n",
        ")"
      ]
    },
    {
      "cell_type": "markdown",
      "metadata": {
        "id": "bmizFJR8Xev5"
      },
      "source": [
        "The `ModelCheckpoint` callback can be used to implement fault-tolerance:\n",
        "the ability to restart training from the last saved state of the model in case training\n",
        "gets randomly interrupted. Here's a basic example:"
      ]
    },
    {
      "cell_type": "code",
      "execution_count": 44,
      "metadata": {
        "id": "AFXLuQRUXev5",
        "colab": {
          "base_uri": "https://localhost:8080/"
        },
        "outputId": "cbc923f0-408e-4ac1-98d0-785b29921f1c"
      },
      "outputs": [
        {
          "output_type": "stream",
          "name": "stdout",
          "text": [
            "Creating a new model\n",
            "\u001b[1m1563/1563\u001b[0m \u001b[32m━━━━━━━━━━━━━━━━━━━━\u001b[0m\u001b[37m\u001b[0m \u001b[1m6s\u001b[0m 3ms/step - loss: 0.5049 - sparse_categorical_accuracy: 0.8538\n"
          ]
        },
        {
          "output_type": "execute_result",
          "data": {
            "text/plain": [
              "<keras.src.callbacks.history.History at 0x7f38865d0610>"
            ]
          },
          "metadata": {},
          "execution_count": 44
        }
      ],
      "source": [
        "# Prepare a directory to store all the checkpoints.\n",
        "checkpoint_dir = \"./ckpt\"\n",
        "if not os.path.exists(checkpoint_dir):\n",
        "    os.makedirs(checkpoint_dir)\n",
        "\n",
        "\n",
        "def make_or_restore_model():\n",
        "    # Either restore the latest model, or create a fresh one\n",
        "    # if there is no checkpoint available.\n",
        "    checkpoints = [checkpoint_dir + \"/\" + name for name in os.listdir(checkpoint_dir)]\n",
        "    if checkpoints:\n",
        "        latest_checkpoint = max(checkpoints, key=os.path.getctime)\n",
        "        print(\"Restoring from\", latest_checkpoint)\n",
        "        return keras.models.load_model(latest_checkpoint)\n",
        "    print(\"Creating a new model\")\n",
        "    return get_compiled_model()\n",
        "\n",
        "\n",
        "model = make_or_restore_model()\n",
        "callbacks = [\n",
        "    # This callback saves the model every 100 batches.\n",
        "    # We include the training loss in the saved model name.\n",
        "    keras.callbacks.ModelCheckpoint(\n",
        "        filepath=checkpoint_dir + \"/model-loss={loss:.2f}.keras\", save_freq=100\n",
        "    )\n",
        "]\n",
        "model.fit(x_train, y_train, epochs=1, callbacks=callbacks)"
      ]
    },
    {
      "cell_type": "markdown",
      "metadata": {
        "id": "2UTBMCIDXev5"
      },
      "source": [
        "You call also write your own callback for saving and restoring models.\n",
        "\n",
        "For a complete guide on serialization and saving, see the\n",
        "[guide to saving and serializing Models](/guides/serialization_and_saving/)."
      ]
    },
    {
      "cell_type": "markdown",
      "metadata": {
        "id": "ZmaIbogeXev5"
      },
      "source": [
        "## Using learning rate schedules\n",
        "\n",
        "A common pattern when training deep learning models is to gradually reduce the learning\n",
        "as training progresses. This is generally known as \"learning rate decay\".\n",
        "\n",
        "The learning decay schedule could be static (fixed in advance, as a function of the\n",
        "current epoch or the current batch index), or dynamic (responding to the current\n",
        "behavior of the model, in particular the validation loss).\n",
        "\n",
        "### Passing a schedule to an optimizer\n",
        "\n",
        "You can easily use a static learning rate decay schedule by passing a schedule object\n",
        "as the `learning_rate` argument in your optimizer:"
      ]
    },
    {
      "cell_type": "code",
      "execution_count": 45,
      "metadata": {
        "id": "LqLLVI_7Xev5"
      },
      "outputs": [],
      "source": [
        "initial_learning_rate = 0.1\n",
        "lr_schedule = keras.optimizers.schedules.ExponentialDecay(\n",
        "    initial_learning_rate, decay_steps=100000, decay_rate=0.96, staircase=True\n",
        ")\n",
        "\n",
        "optimizer = keras.optimizers.RMSprop(learning_rate=lr_schedule)"
      ]
    },
    {
      "cell_type": "markdown",
      "metadata": {
        "id": "sz-FOBnrXev5"
      },
      "source": [
        "Several built-in schedules are available: `ExponentialDecay`, `PiecewiseConstantDecay`,\n",
        "`PolynomialDecay`, and `InverseTimeDecay`.\n",
        "\n",
        "### Using callbacks to implement a dynamic learning rate schedule\n",
        "\n",
        "A dynamic learning rate schedule (for instance, decreasing the learning rate when the\n",
        "validation loss is no longer improving) cannot be achieved with these schedule objects,\n",
        "since the optimizer does not have access to validation metrics.\n",
        "\n",
        "However, callbacks do have access to all metrics, including validation metrics! You can\n",
        "thus achieve this pattern by using a callback that modifies the current learning rate\n",
        "on the optimizer. In fact, this is even built-in as the `ReduceLROnPlateau` callback."
      ]
    },
    {
      "cell_type": "markdown",
      "metadata": {
        "id": "VdHZL_EQXev5"
      },
      "source": [
        "## Visualizing loss and metrics during training with TensorBoard\n",
        "\n",
        "The best way to keep an eye on your model during training is to use\n",
        "[TensorBoard](https://www.tensorflow.org/tensorboard) -- a browser-based application\n",
        "that you can run locally that provides you with:\n",
        "\n",
        "- Live plots of the loss and metrics for training and evaluation\n",
        "- (optionally) Visualizations of the histograms of your layer activations\n",
        "- (optionally) 3D visualizations of the embedding spaces learned by your `Embedding`\n",
        "layers\n",
        "\n",
        "If you have installed TensorFlow with pip, you should be able to launch TensorBoard\n",
        "from the command line:\n",
        "\n",
        "```\n",
        "tensorboard --logdir=/full_path_to_your_logs\n",
        "```"
      ]
    },
    {
      "cell_type": "markdown",
      "metadata": {
        "id": "gB96fpaMXev6"
      },
      "source": [
        "### Using the TensorBoard callback\n",
        "\n",
        "The easiest way to use TensorBoard with a Keras model and the `fit()` method is the\n",
        "`TensorBoard` callback.\n",
        "\n",
        "In the simplest case, just specify where you want the callback to write logs, and\n",
        "you're good to go:"
      ]
    },
    {
      "cell_type": "code",
      "execution_count": 46,
      "metadata": {
        "id": "u_1U9O4IXev6",
        "colab": {
          "base_uri": "https://localhost:8080/"
        },
        "outputId": "5646d448-b7f0-4ca9-fbae-089e43c2d76b"
      },
      "outputs": [
        {
          "output_type": "execute_result",
          "data": {
            "text/plain": [
              "<keras.src.callbacks.tensorboard.TensorBoard at 0x7f388e7672d0>"
            ]
          },
          "metadata": {},
          "execution_count": 46
        }
      ],
      "source": [
        "keras.callbacks.TensorBoard(\n",
        "    log_dir=\"/full_path_to_your_logs\",\n",
        "    histogram_freq=0,  # How often to log histogram visualizations\n",
        "    embeddings_freq=0,  # How often to log embedding visualizations\n",
        "    update_freq=\"epoch\",\n",
        ")  # How often to write logs (default: once per epoch)"
      ]
    },
    {
      "cell_type": "markdown",
      "metadata": {
        "id": "D7E27E90Xev6"
      },
      "source": [
        "For more information, see the\n",
        "[documentation for the `TensorBoard` callback](https://keras.io/api/callbacks/tensorboard/)."
      ]
    }
  ],
  "metadata": {
    "accelerator": "GPU",
    "colab": {
      "provenance": [],
      "include_colab_link": true
    },
    "kernelspec": {
      "display_name": "Python 3",
      "language": "python",
      "name": "python3"
    },
    "language_info": {
      "codemirror_mode": {
        "name": "ipython",
        "version": 3
      },
      "file_extension": ".py",
      "mimetype": "text/x-python",
      "name": "python",
      "nbconvert_exporter": "python",
      "pygments_lexer": "ipython3",
      "version": "3.7.0"
    }
  },
  "nbformat": 4,
  "nbformat_minor": 0
}